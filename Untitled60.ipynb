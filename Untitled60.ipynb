{
  "nbformat": 4,
  "nbformat_minor": 0,
  "metadata": {
    "colab": {
      "name": "Untitled60.ipynb",
      "provenance": [],
      "authorship_tag": "ABX9TyP8M8MSded4vFOnnVMdl4Eq",
      "include_colab_link": true
    },
    "kernelspec": {
      "name": "python3",
      "display_name": "Python 3"
    }
  },
  "cells": [
    {
      "cell_type": "markdown",
      "metadata": {
        "id": "view-in-github",
        "colab_type": "text"
      },
      "source": [
        "<a href=\"https://colab.research.google.com/github/959012/Assignment-1/blob/master/Untitled60.ipynb\" target=\"_parent\"><img src=\"https://colab.research.google.com/assets/colab-badge.svg\" alt=\"Open In Colab\"/></a>"
      ]
    },
    {
      "cell_type": "code",
      "metadata": {
        "id": "kHqvD0gzOcLN",
        "colab_type": "code",
        "colab": {
          "base_uri": "https://localhost:8080/",
          "height": 55
        },
        "outputId": "326a24bf-e6ce-4cf3-e105-606919b6063d"
      },
      "source": [
        "#Question-1\n",
        "#Assign a empty list in l\n",
        "l = []\n",
        "#running for loop between 2000 to 3201 through the help of range function \n",
        "for i in range(2000,3201):\n",
        "  #checking the condition\n",
        "  if (i%7==0) and (i%5==0):\n",
        "    #convert intger to string and adding the number\n",
        "    l.append(str(i))\n",
        "#print the number with comma-separated in to l\n",
        "print(',',(l))"
      ],
      "execution_count": 1,
      "outputs": [
        {
          "output_type": "stream",
          "text": [
            ", ['2030', '2065', '2100', '2135', '2170', '2205', '2240', '2275', '2310', '2345', '2380', '2415', '2450', '2485', '2520', '2555', '2590', '2625', '2660', '2695', '2730', '2765', '2800', '2835', '2870', '2905', '2940', '2975', '3010', '3045', '3080', '3115', '3150', '3185']\n"
          ],
          "name": "stdout"
        }
      ]
    },
    {
      "cell_type": "code",
      "metadata": {
        "id": "5_HqlwtYPRX8",
        "colab_type": "code",
        "colab": {
          "base_uri": "https://localhost:8080/",
          "height": 72
        },
        "outputId": "8e8882cd-1ef4-45b0-ae51-1897b381e15c"
      },
      "source": [
        "#Question-2\n",
        "#first Name inupt for user\n",
        "a = input(\"Please Enter First Name \")\n",
        "#second Name inupt for user\n",
        "b = input(\"Please Enter Last Name \")\n",
        "#combine both name\n",
        "Name = (a + \" \" + b)\n",
        "#split the name\n",
        "a=Name.split()\n",
        "#reverse the string\n",
        "a.reverse()\n",
        "#join the reverse string\n",
        "finalresult = \" \".join(a)\n",
        "print(finalresult)"
      ],
      "execution_count": 2,
      "outputs": [
        {
          "output_type": "stream",
          "text": [
            "Please Enter First Name biswa\n",
            "Please Enter Last Name Sahu\n",
            "Sahu biswa\n"
          ],
          "name": "stdout"
        }
      ]
    },
    {
      "cell_type": "code",
      "metadata": {
        "id": "wjD6zpu3bixK",
        "colab_type": "code",
        "colab": {
          "base_uri": "https://localhost:8080/",
          "height": 54
        },
        "outputId": "4c230af7-bfab-4c00-ed0c-0b3c2b77195d"
      },
      "source": [
        "#Question-4\n",
        "#Input for user to Enter the number\n",
        "number =  input(\"Pleas Enter some number\")\n",
        "#Creat a list\n",
        "list = number.split(\",\")\n",
        "#print list\n",
        "print (list)"
      ],
      "execution_count": 36,
      "outputs": [
        {
          "output_type": "stream",
          "text": [
            "Pleas Enter some number10,20,30,50,60,25\n",
            "['10', '20', '30', '50', '60', '25']\n"
          ],
          "name": "stdout"
        }
      ]
    },
    {
      "cell_type": "code",
      "metadata": {
        "id": "6_tBmbHrPcJK",
        "colab_type": "code",
        "colab": {
          "base_uri": "https://localhost:8080/",
          "height": 181
        },
        "outputId": "4be1d3dd-bb59-4aed-a9c5-d91268d0c1be"
      },
      "source": [
        "#Question-5\n",
        "#Assign a number for loop\n",
        "n = 5\n",
        "#running for loop in the range of 0to5\n",
        "for  i in range(0,n):\n",
        "  for j in range(0,i+1):\n",
        "    #print * accoring to the loop value\n",
        "    print(\"*\",end= \" \")\n",
        "  print(\"\\r\")\n",
        "b = 3\n",
        "for  i in range(b,-1,-1):\n",
        "  for j in range(0,i+1):\n",
        "    print(\"*\",end= \" \")\n",
        "  print(\"\\r\")\n",
        "  \n"
      ],
      "execution_count": 8,
      "outputs": [
        {
          "output_type": "stream",
          "text": [
            "* \r\n",
            "* * \r\n",
            "* * * \r\n",
            "* * * * \r\n",
            "* * * * * \r\n",
            "* * * * \r\n",
            "* * * \r\n",
            "* * \r\n",
            "* \r\n"
          ],
          "name": "stdout"
        }
      ]
    },
    {
      "cell_type": "code",
      "metadata": {
        "id": "G8RBvS1zcB_B",
        "colab_type": "code",
        "colab": {
          "base_uri": "https://localhost:8080/",
          "height": 54
        },
        "outputId": "44a68501-af13-486b-f650-d4385581e63c"
      },
      "source": [
        "#Question-6\n",
        "\"User has to Enter the word\"\n",
        "A = input(\"please Enter the word \")\n",
        "#through the help of indexing we change the word to reverses.\n",
        "B = A[::-1]\n",
        "print(B)"
      ],
      "execution_count": 37,
      "outputs": [
        {
          "output_type": "stream",
          "text": [
            "please Enter the word iNeuron\n",
            "norueNi\n"
          ],
          "name": "stdout"
        }
      ]
    },
    {
      "cell_type": "code",
      "metadata": {
        "id": "dkFb6njhWJbQ",
        "colab_type": "code",
        "colab": {
          "base_uri": "https://localhost:8080/",
          "height": 55
        },
        "outputId": "cc73c491-869f-49c8-9572-dda16a533745"
      },
      "source": [
        "#Question-7\n",
        "#Assign full sentance into one variable\n",
        "sen = \"WE, THE PEOPLE OF INDIA, having solemnly resolved to constitute India into a SOVEREIGN, SOCIALIST, SECULAR, DEMOCRATIC REPUBLIC and to secure to all its citizens\"\n",
        "#split the sentance\n",
        "ssplit = sen.split()\n",
        "type(ssplit)\n",
        "#Running a  for loop to identify the required word\n",
        "for i in ssplit:\n",
        "  if i ==\"SOVEREIGN,\":\n",
        "    l = ssplit.index(i)\n",
        "    #replace the old word to new word\n",
        "    ssplit[l] =\"SOVEREIGN,!\"\n",
        "#Change list to string\n",
        "def listToString(s): \n",
        "  str1 = \" \"\n",
        "  return(str1.join(s))\n",
        "s = ssplit\n",
        "print(listToString(s))"
      ],
      "execution_count": 34,
      "outputs": [
        {
          "output_type": "stream",
          "text": [
            "WE, THE PEOPLE OF INDIA, having solemnly resolved to constitute India into a SOVEREIGN,! SOCIALIST, SECULAR, DEMOCRATIC REPUBLIC and to secure to all its citizens\n"
          ],
          "name": "stdout"
        }
      ]
    },
    {
      "cell_type": "code",
      "metadata": {
        "id": "_RsKB_qqaX-Q",
        "colab_type": "code",
        "colab": {}
      },
      "source": [
        ""
      ],
      "execution_count": 0,
      "outputs": []
    }
  ]
}