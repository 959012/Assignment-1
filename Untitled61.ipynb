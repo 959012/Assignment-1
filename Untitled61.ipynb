{
  "nbformat": 4,
  "nbformat_minor": 0,
  "metadata": {
    "colab": {
      "name": "Untitled61.ipynb",
      "provenance": [],
      "authorship_tag": "ABX9TyMcXI9GCkvxWaMYmOATm69c",
      "include_colab_link": true
    },
    "kernelspec": {
      "name": "python3",
      "display_name": "Python 3"
    }
  },
  "cells": [
    {
      "cell_type": "markdown",
      "metadata": {
        "id": "view-in-github",
        "colab_type": "text"
      },
      "source": [
        "<a href=\"https://colab.research.google.com/github/959012/Assignment-1/blob/master/Untitled61.ipynb\" target=\"_parent\"><img src=\"https://colab.research.google.com/assets/colab-badge.svg\" alt=\"Open In Colab\"/></a>"
      ]
    },
    {
      "cell_type": "code",
      "metadata": {
        "id": "vgF-7MUQjqM4",
        "colab_type": "code",
        "colab": {
          "base_uri": "https://localhost:8080/",
          "height": 55
        },
        "outputId": "c5e6e47a-0024-47cb-cf45-1bf9bc38ff66"
      },
      "source": [
        "#Question-1\n",
        "#Assign a empty list in l\n",
        "l = []\n",
        "#running for loop between 2000 to 3201 through the help of range function \n",
        "for i in range(2000,3201):\n",
        "  #checking the condition\n",
        "  if (i%7==0) and (i%5==0):\n",
        "    #convert intger to string and adding the number\n",
        "    l.append(str(i))\n",
        "#print the number with comma-separated in to l\n",
        "print(',',(l))"
      ],
      "execution_count": 1,
      "outputs": [
        {
          "output_type": "stream",
          "text": [
            ", ['2030', '2065', '2100', '2135', '2170', '2205', '2240', '2275', '2310', '2345', '2380', '2415', '2450', '2485', '2520', '2555', '2590', '2625', '2660', '2695', '2730', '2765', '2800', '2835', '2870', '2905', '2940', '2975', '3010', '3045', '3080', '3115', '3150', '3185']\n"
          ],
          "name": "stdout"
        }
      ]
    },
    {
      "cell_type": "code",
      "metadata": {
        "id": "KXC3yN6DjsmQ",
        "colab_type": "code",
        "colab": {
          "base_uri": "https://localhost:8080/",
          "height": 72
        },
        "outputId": "8ae07d82-6b20-40d0-fbe0-bf816c782f48"
      },
      "source": [
        "#Question-2\n",
        "#first Name inupt for user\n",
        "a = input(\"Please Enter First Name \")\n",
        "#second Name inupt for user\n",
        "b = input(\"Please Enter Last Name \")\n",
        "#combine both name\n",
        "Name = (a + \" \" + b)\n",
        "#split the name\n",
        "a=Name.split()\n",
        "#reverse the string\n",
        "a.reverse()\n",
        "#join the reverse string\n",
        "finalresult = \" \".join(a)\n",
        "print(finalresult)"
      ],
      "execution_count": 7,
      "outputs": [
        {
          "output_type": "stream",
          "text": [
            "Please Enter First Name Biswa\n",
            "Please Enter Last Name Sahu\n",
            "Sahu Biswa\n"
          ],
          "name": "stdout"
        }
      ]
    },
    {
      "cell_type": "code",
      "metadata": {
        "id": "RHDvunohj0ym",
        "colab_type": "code",
        "colab": {
          "base_uri": "https://localhost:8080/",
          "height": 35
        },
        "outputId": "67851122-1106-4f4f-b4fd-8ac95d52e455"
      },
      "source": [
        "#Quesion-3\n",
        "pi = 2.4\n",
        "r= 5.0\n",
        "V= 4.0/3.0*pi* r**3\n",
        "print('The volume of the sphere is:',V)"
      ],
      "execution_count": 8,
      "outputs": [
        {
          "output_type": "stream",
          "text": [
            "The volume of the sphere is: 399.99999999999994\n"
          ],
          "name": "stdout"
        }
      ]
    },
    {
      "cell_type": "code",
      "metadata": {
        "id": "1CUGPOHykbVW",
        "colab_type": "code",
        "colab": {
          "base_uri": "https://localhost:8080/",
          "height": 54
        },
        "outputId": "f2885541-e433-4059-9d35-71cea8a6d96e"
      },
      "source": [
        "#Question-4\n",
        "#Input for user to Enter the number\n",
        "number =  input(\"Pleas Enter some number\")\n",
        "#Creat a list\n",
        "list = number.split(\",\")\n",
        "#print list\n",
        "print (list)"
      ],
      "execution_count": 9,
      "outputs": [
        {
          "output_type": "stream",
          "text": [
            "Pleas Enter some number10,20,3040,50,60\n",
            "['10', '20', '3040', '50', '60']\n"
          ],
          "name": "stdout"
        }
      ]
    },
    {
      "cell_type": "code",
      "metadata": {
        "id": "d7O4jt9NkdqW",
        "colab_type": "code",
        "colab": {
          "base_uri": "https://localhost:8080/",
          "height": 181
        },
        "outputId": "7745e99a-5dcf-45f0-cab7-b5a6e68685c3"
      },
      "source": [
        "#Question-5\n",
        "n = 5\n",
        "#running for loop in the range of 0to5\n",
        "for  i in range(0,n):\n",
        "  for j in range(0,i+1):\n",
        "    #print * accoring to the loop value\n",
        "    print(\"*\",end= \" \")\n",
        "  print(\"\\r\")\n",
        "b = 3\n",
        "for  i in range(b,-1,-1):\n",
        "  for j in range(0,i+1):\n",
        "    print(\"*\",end= \" \")\n",
        "  print(\"\\r\")"
      ],
      "execution_count": 10,
      "outputs": [
        {
          "output_type": "stream",
          "text": [
            "* \r\n",
            "* * \r\n",
            "* * * \r\n",
            "* * * * \r\n",
            "* * * * * \r\n",
            "* * * * \r\n",
            "* * * \r\n",
            "* * \r\n",
            "* \r\n"
          ],
          "name": "stdout"
        }
      ]
    },
    {
      "cell_type": "code",
      "metadata": {
        "id": "onGZOMvGkjre",
        "colab_type": "code",
        "colab": {
          "base_uri": "https://localhost:8080/",
          "height": 54
        },
        "outputId": "2cc30c69-9ac7-45d3-e9e0-2e64dd1d8551"
      },
      "source": [
        "#Question-6\n",
        "\"User has to Enter the word\"\n",
        "A = input(\"please Enter the word \")\n",
        "#through the help of indexing we change the word to reverses.\n",
        "B = A[::-1]\n",
        "print(B)"
      ],
      "execution_count": 11,
      "outputs": [
        {
          "output_type": "stream",
          "text": [
            "please Enter the word iNeuron\n",
            "norueNi\n"
          ],
          "name": "stdout"
        }
      ]
    },
    {
      "cell_type": "code",
      "metadata": {
        "id": "eJA0E0Gikpml",
        "colab_type": "code",
        "colab": {
          "base_uri": "https://localhost:8080/",
          "height": 55
        },
        "outputId": "0c2ab618-2d2d-4c2f-bab2-6ea2d6addcc3"
      },
      "source": [
        "#Question-7\n",
        "#Assign full sentance into one variable\n",
        "sen = \"WE, THE PEOPLE OF INDIA, having solemnly resolved to constitute India into a SOVEREIGN, SOCIALIST, SECULAR, DEMOCRATIC REPUBLIC and to secure to all its citizens\"\n",
        "#split the sentance\n",
        "ssplit = sen.split()\n",
        "type(ssplit)\n",
        "#Running a  for loop to identify the required word\n",
        "for i in ssplit:\n",
        "  if i ==\"SOVEREIGN,\":\n",
        "    l = ssplit.index(i)\n",
        "    #replace the old word to new word\n",
        "    ssplit[l] =\"SOVEREIGN,!\"\n",
        "#Change list to string\n",
        "def listToString(s): \n",
        "  str1 = \" \"\n",
        "  return(str1.join(s))\n",
        "s = ssplit\n",
        "print(listToString(s))"
      ],
      "execution_count": 12,
      "outputs": [
        {
          "output_type": "stream",
          "text": [
            "WE, THE PEOPLE OF INDIA, having solemnly resolved to constitute India into a SOVEREIGN,! SOCIALIST, SECULAR, DEMOCRATIC REPUBLIC and to secure to all its citizens\n"
          ],
          "name": "stdout"
        }
      ]
    },
    {
      "cell_type": "code",
      "metadata": {
        "id": "2YZUtIFsk0_3",
        "colab_type": "code",
        "colab": {}
      },
      "source": [
        ""
      ],
      "execution_count": 0,
      "outputs": []
    }
  ]
}